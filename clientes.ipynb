{
 "cells": [
  {
   "cell_type": "code",
   "execution_count": 1,
   "metadata": {},
   "outputs": [
    {
     "name": "stdout",
     "output_type": "stream",
     "text": [
      "Program to demonstrate csv.reader() function:\n",
      "\n",
      "\n"
     ]
    }
   ],
   "source": [
    "import csv\n",
    "print(\"Program to demonstrate csv.reader() function:\")\n",
    "print(\"\\n\")"
   ]
  },
  {
   "cell_type": "code",
   "execution_count": 2,
   "metadata": {},
   "outputs": [
    {
     "name": "stdout",
     "output_type": "stream",
     "text": [
      "The csv file is opened for reading:\n",
      "\n",
      "\n",
      "The contents of the above file is as follows:\n",
      "[{'empresa_id': 'empresa_id', 'usuario_id': 'usuario_id', 'contacto_id': 'contacto_id', 'cliente_empresa_id': 'cliente_empresa_id', 'seguimiento': 0, 'tipo_contribuyente': 1}, {'empresa_id': '1709636664001', 'usuario_id': '1709636664', 'contacto_id': '1', 'cliente_empresa_id': '1', 'seguimiento': 0, 'tipo_contribuyente': 1}, {'empresa_id': '1709636664001', 'usuario_id': '1709636664', 'contacto_id': '2', 'cliente_empresa_id': '2', 'seguimiento': 0, 'tipo_contribuyente': 1}, {'empresa_id': '1709636664001', 'usuario_id': '1709636664', 'contacto_id': '3', 'cliente_empresa_id': '3', 'seguimiento': 0, 'tipo_contribuyente': 1}, {'empresa_id': '1709636664001', 'usuario_id': '1709636664', 'contacto_id': '4', 'cliente_empresa_id': '4', 'seguimiento': 0, 'tipo_contribuyente': 1}, {'empresa_id': '1709636664001', 'usuario_id': '1709636664', 'contacto_id': '5', 'cliente_empresa_id': '5', 'seguimiento': 0, 'tipo_contribuyente': 1}, {'empresa_id': '1709636664001', 'usuario_id': '1709636664', 'contacto_id': '6', 'cliente_empresa_id': '6', 'seguimiento': 0, 'tipo_contribuyente': 1}, {'empresa_id': '1709636664001', 'usuario_id': '1709636664', 'contacto_id': '7', 'cliente_empresa_id': '7', 'seguimiento': 0, 'tipo_contribuyente': 1}, {'empresa_id': '1709636664001', 'usuario_id': '1709636664', 'contacto_id': '8', 'cliente_empresa_id': '8', 'seguimiento': 0, 'tipo_contribuyente': 1}, {'empresa_id': '1709636664001', 'usuario_id': '1709636664', 'contacto_id': '9', 'cliente_empresa_id': '9', 'seguimiento': 0, 'tipo_contribuyente': 1}, {'empresa_id': '1709636664001', 'usuario_id': '1709636664', 'contacto_id': '10', 'cliente_empresa_id': '10', 'seguimiento': 0, 'tipo_contribuyente': 1}, {'empresa_id': '1709636664001', 'usuario_id': '1709636664', 'contacto_id': '11', 'cliente_empresa_id': '11', 'seguimiento': 0, 'tipo_contribuyente': 1}, {'empresa_id': '1709636664001', 'usuario_id': '1709636664', 'contacto_id': '12', 'cliente_empresa_id': '12', 'seguimiento': 0, 'tipo_contribuyente': 1}, {'empresa_id': '1709636664001', 'usuario_id': '1709636664', 'contacto_id': '13', 'cliente_empresa_id': '13', 'seguimiento': 0, 'tipo_contribuyente': 1}, {'empresa_id': '1709636664001', 'usuario_id': '1709636664', 'contacto_id': '14', 'cliente_empresa_id': '14', 'seguimiento': 0, 'tipo_contribuyente': 1}, {'empresa_id': '1709636664001', 'usuario_id': '1709636664', 'contacto_id': '15', 'cliente_empresa_id': '15', 'seguimiento': 0, 'tipo_contribuyente': 1}, {'empresa_id': '1709636664001', 'usuario_id': '1709636664', 'contacto_id': '16', 'cliente_empresa_id': '16', 'seguimiento': 0, 'tipo_contribuyente': 1}, {'empresa_id': '1709636664001', 'usuario_id': '1709636664', 'contacto_id': '17', 'cliente_empresa_id': '17', 'seguimiento': 0, 'tipo_contribuyente': 1}, {'empresa_id': '1709636664001', 'usuario_id': '1709636664', 'contacto_id': '18', 'cliente_empresa_id': '18', 'seguimiento': 0, 'tipo_contribuyente': 1}, {'empresa_id': '1709636664001', 'usuario_id': '1709636664', 'contacto_id': '19', 'cliente_empresa_id': '19', 'seguimiento': 0, 'tipo_contribuyente': 1}, {'empresa_id': '1709636664001', 'usuario_id': '1709636664', 'contacto_id': '20', 'cliente_empresa_id': '20', 'seguimiento': 0, 'tipo_contribuyente': 1}, {'empresa_id': '1709636664001', 'usuario_id': '1709636664', 'contacto_id': '21', 'cliente_empresa_id': '21', 'seguimiento': 0, 'tipo_contribuyente': 1}, {'empresa_id': '1709636664001', 'usuario_id': '1709636664', 'contacto_id': '22', 'cliente_empresa_id': '22', 'seguimiento': 0, 'tipo_contribuyente': 1}, {'empresa_id': '1709636664001', 'usuario_id': '1709636664', 'contacto_id': '23', 'cliente_empresa_id': '23', 'seguimiento': 0, 'tipo_contribuyente': 1}, {'empresa_id': '1709636664001', 'usuario_id': '1709636664', 'contacto_id': '24', 'cliente_empresa_id': '24', 'seguimiento': 0, 'tipo_contribuyente': 1}, {'empresa_id': '1709636664001', 'usuario_id': '1709636664', 'contacto_id': '25', 'cliente_empresa_id': '25', 'seguimiento': 0, 'tipo_contribuyente': 1}, {'empresa_id': '1709636664001', 'usuario_id': '1709636664', 'contacto_id': '26', 'cliente_empresa_id': '26', 'seguimiento': 0, 'tipo_contribuyente': 1}, {'empresa_id': '1709636664001', 'usuario_id': '1709636664', 'contacto_id': '27', 'cliente_empresa_id': '27', 'seguimiento': 0, 'tipo_contribuyente': 1}, {'empresa_id': '1709636664001', 'usuario_id': '1709636664', 'contacto_id': '28', 'cliente_empresa_id': '28', 'seguimiento': 0, 'tipo_contribuyente': 1}, {'empresa_id': '1709636664001', 'usuario_id': '1709636664', 'contacto_id': '29', 'cliente_empresa_id': '29', 'seguimiento': 0, 'tipo_contribuyente': 1}, {'empresa_id': '1709636664001', 'usuario_id': '1709636664', 'contacto_id': '30', 'cliente_empresa_id': '30', 'seguimiento': 0, 'tipo_contribuyente': 1}, {'empresa_id': '1709636664001', 'usuario_id': '1709636664', 'contacto_id': '31', 'cliente_empresa_id': '31', 'seguimiento': 0, 'tipo_contribuyente': 1}, {'empresa_id': '1709636664001', 'usuario_id': '1709636664', 'contacto_id': '32', 'cliente_empresa_id': '32', 'seguimiento': 0, 'tipo_contribuyente': 1}, {'empresa_id': '1709636664001', 'usuario_id': '1709636664', 'contacto_id': '33', 'cliente_empresa_id': '33', 'seguimiento': 0, 'tipo_contribuyente': 1}, {'empresa_id': '1709636664001', 'usuario_id': '1709636664', 'contacto_id': '34', 'cliente_empresa_id': '34', 'seguimiento': 0, 'tipo_contribuyente': 1}, {'empresa_id': '1709636664001', 'usuario_id': '1709636664', 'contacto_id': '35', 'cliente_empresa_id': '35', 'seguimiento': 0, 'tipo_contribuyente': 1}, {'empresa_id': '1709636664001', 'usuario_id': '1709636664', 'contacto_id': '36', 'cliente_empresa_id': '36', 'seguimiento': 0, 'tipo_contribuyente': 1}, {'empresa_id': '1709636664001', 'usuario_id': '1709636664', 'contacto_id': '37', 'cliente_empresa_id': '37', 'seguimiento': 0, 'tipo_contribuyente': 1}, {'empresa_id': '1709636664001', 'usuario_id': '1709636664', 'contacto_id': '38', 'cliente_empresa_id': '38', 'seguimiento': 0, 'tipo_contribuyente': 1}, {'empresa_id': '1709636664001', 'usuario_id': '1709636664', 'contacto_id': '39', 'cliente_empresa_id': '39', 'seguimiento': 0, 'tipo_contribuyente': 1}, {'empresa_id': '1709636664001', 'usuario_id': '1709636664', 'contacto_id': '40', 'cliente_empresa_id': '40', 'seguimiento': 0, 'tipo_contribuyente': 1}, {'empresa_id': '1709636664001', 'usuario_id': '1709636664', 'contacto_id': '41', 'cliente_empresa_id': '41', 'seguimiento': 0, 'tipo_contribuyente': 1}, {'empresa_id': '1709636664001', 'usuario_id': '1709636664', 'contacto_id': '42', 'cliente_empresa_id': '42', 'seguimiento': 0, 'tipo_contribuyente': 1}, {'empresa_id': '1709636664001', 'usuario_id': '1709636664', 'contacto_id': '43', 'cliente_empresa_id': '43', 'seguimiento': 0, 'tipo_contribuyente': 1}, {'empresa_id': '1709636664001', 'usuario_id': '1709636664', 'contacto_id': '44', 'cliente_empresa_id': '44', 'seguimiento': 0, 'tipo_contribuyente': 1}, {'empresa_id': '1709636664001', 'usuario_id': '1709636664', 'contacto_id': '45', 'cliente_empresa_id': '45', 'seguimiento': 0, 'tipo_contribuyente': 1}, {'empresa_id': '1709636664001', 'usuario_id': '1709636664', 'contacto_id': '46', 'cliente_empresa_id': '46', 'seguimiento': 0, 'tipo_contribuyente': 1}, {'empresa_id': '1709636664001', 'usuario_id': '1709636664', 'contacto_id': '47', 'cliente_empresa_id': '47', 'seguimiento': 0, 'tipo_contribuyente': 1}, {'empresa_id': '1709636664001', 'usuario_id': '1709636664', 'contacto_id': '48', 'cliente_empresa_id': '48', 'seguimiento': 0, 'tipo_contribuyente': 1}, {'empresa_id': '1709636664001', 'usuario_id': '1709636664', 'contacto_id': '49', 'cliente_empresa_id': '49', 'seguimiento': 0, 'tipo_contribuyente': 1}, {'empresa_id': '1709636664001', 'usuario_id': '1709636664', 'contacto_id': '50', 'cliente_empresa_id': '50', 'seguimiento': 0, 'tipo_contribuyente': 1}, {'empresa_id': '1709636664001', 'usuario_id': '1709636664', 'contacto_id': '51', 'cliente_empresa_id': '51', 'seguimiento': 0, 'tipo_contribuyente': 1}, {'empresa_id': '1709636664001', 'usuario_id': '1709636664', 'contacto_id': '52', 'cliente_empresa_id': '52', 'seguimiento': 0, 'tipo_contribuyente': 1}, {'empresa_id': '1709636664001', 'usuario_id': '1709636664', 'contacto_id': '53', 'cliente_empresa_id': '53', 'seguimiento': 0, 'tipo_contribuyente': 1}]\n"
     ]
    },
    {
     "ename": "NameError",
     "evalue": "name 'c' is not defined",
     "output_type": "error",
     "traceback": [
      "\u001b[0;31m---------------------------------------------------------------------------\u001b[0m",
      "\u001b[0;31mNameError\u001b[0m                                 Traceback (most recent call last)",
      "\u001b[0;32m/var/folders/cs/m5ywmh1d5r19yylc1tq4qp2r0000gp/T/ipykernel_20282/2098667448.py\u001b[0m in \u001b[0;36m<module>\u001b[0;34m\u001b[0m\n\u001b[1;32m     18\u001b[0m \u001b[0mprint\u001b[0m\u001b[0;34m(\u001b[0m\u001b[0mcontactos\u001b[0m\u001b[0;34m)\u001b[0m\u001b[0;34m\u001b[0m\u001b[0;34m\u001b[0m\u001b[0m\n\u001b[1;32m     19\u001b[0m \u001b[0;34m\u001b[0m\u001b[0m\n\u001b[0;32m---> 20\u001b[0;31m \u001b[0mc\u001b[0m\u001b[0;34m.\u001b[0m\u001b[0mclose\u001b[0m\u001b[0;34m(\u001b[0m\u001b[0;34m)\u001b[0m\u001b[0;34m\u001b[0m\u001b[0;34m\u001b[0m\u001b[0m\n\u001b[0m",
      "\u001b[0;31mNameError\u001b[0m: name 'c' is not defined"
     ]
    }
   ],
   "source": [
    "file_read = open('/Users/pedroaltamirano/Downloads/clientes_servigraf.csv','r')\n",
    "print(\"The csv file is opened for reading:\")\n",
    "print(\"\\n\")\n",
    "file_open = csv.reader(file_read)\n",
    "print(\"The contents of the above file is as follows:\")\n",
    "\n",
    "contactos = []\n",
    "for row in file_open:\n",
    "  contactos.append({\n",
    "    'empresa_id':\trow[0],\n",
    "    'usuario_id':\trow[1],\n",
    "    'contacto_id': row[2],\n",
    "    'cliente_empresa_id': row[3],\n",
    "    'seguimiento': 0,\n",
    "    'tipo_contribuyente': 1,\n",
    "  })\n",
    "\n",
    "print(contactos)\n",
    "\n",
    "c.close()"
   ]
  },
  {
   "cell_type": "code",
   "execution_count": 27,
   "metadata": {},
   "outputs": [],
   "source": []
  }
 ],
 "metadata": {
  "interpreter": {
   "hash": "aee8b7b246df8f9039afb4144a1f6fd8d2ca17a180786b69acc140d282b71a49"
  },
  "kernelspec": {
   "display_name": "Python 3.9.7 64-bit",
   "language": "python",
   "name": "python3"
  },
  "language_info": {
   "codemirror_mode": {
    "name": "ipython",
    "version": 3
   },
   "file_extension": ".py",
   "mimetype": "text/x-python",
   "name": "python",
   "nbconvert_exporter": "python",
   "pygments_lexer": "ipython3",
   "version": "3.8.3"
  },
  "orig_nbformat": 4
 },
 "nbformat": 4,
 "nbformat_minor": 2
}
