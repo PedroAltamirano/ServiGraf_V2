{
 "cells": [
  {
   "cell_type": "code",
   "execution_count": 1,
   "metadata": {},
   "outputs": [
    {
     "name": "stdout",
     "output_type": "stream",
     "text": [
      "Program to demonstrate csv.reader() function:\n",
      "\n",
      "\n"
     ]
    }
   ],
   "source": [
    "import csv\n",
    "print(\"Program to demonstrate csv.reader() function:\")\n",
    "print(\"\\n\")"
   ]
  },
  {
   "cell_type": "code",
   "execution_count": 2,
   "metadata": {},
   "outputs": [
    {
     "name": "stdout",
     "output_type": "stream",
     "text": [
      "The csv file is opened for reading:\n",
      "\n",
      "\n",
      "The contents of the above file is as follows:\n",
      "[{'empresa_id': 'empresa_id', 'nombre': 'nombre', 'ruc': 'ruc'}, {'empresa_id': '1709636664001', 'nombre': 'Imprexiones', 'ruc': '1710430065001'}, {'empresa_id': '1709636664002', 'nombre': 'Servigraf', 'ruc': '1709636664001'}, {'empresa_id': '1709636664003', 'nombre': 'Varios', 'ruc': '1111111111110'}, {'empresa_id': '1709636664004', 'nombre': 'Gala Arte', 'ruc': '1801085653001'}, {'empresa_id': '1709636664005', 'nombre': 'Domegraphic', 'ruc': ''}, {'empresa_id': '1709636664006', 'nombre': 'Arturo  Erazo', 'ruc': ''}, {'empresa_id': '1709636664007', 'nombre': 'Imprenta Grafos', 'ruc': '1704826336001'}, {'empresa_id': '1709636664008', 'nombre': 'Intercopy', 'ruc': '1707666614001'}, {'empresa_id': '1709636664009', 'nombre': 'Kaligraf', 'ruc': ''}, {'empresa_id': '1709636664011', 'nombre': 'Daniel Altamirano', 'ruc': ''}, {'empresa_id': '1709636664012', 'nombre': 'Mac Print', 'ruc': ''}, {'empresa_id': '1709636664013', 'nombre': 'Noah Publicidad', 'ruc': ''}, {'empresa_id': '1709636664014', 'nombre': 'IMPRESUM', 'ruc': '1711252575001'}, {'empresa_id': '1709636664015', 'nombre': 'ASESORÍA PUBLICITARIA', 'ruc': '1709449837001'}, {'empresa_id': '1709636664017', 'nombre': 'Alexandra Vaca', 'ruc': ''}, {'empresa_id': '1709636664018', 'nombre': 'Marco Altamirano', 'ruc': '1801730639'}, {'empresa_id': '1709636664019', 'nombre': 'Procesadora de agua Pro-Quito', 'ruc': '1791755073001'}, {'empresa_id': '1709636664020', 'nombre': 'Tallpa', 'ruc': '1703253730001'}, {'empresa_id': '1709636664021', 'nombre': 'Prisma', 'ruc': ''}, {'empresa_id': '1709636664022', 'nombre': 'Rafael Maldonado', 'ruc': '1712512993001'}, {'empresa_id': '1709636664023', 'nombre': 'Janira Peña Rojas', 'ruc': '1708736234001'}, {'empresa_id': '1709636664024', 'nombre': 'Alex Enrrique Vásconez García', 'ruc': '1707870216001'}, {'empresa_id': '1709636664025', 'nombre': 'Roberto Toro', 'ruc': ''}, {'empresa_id': '1709636664026', 'nombre': 'Empertriz Medrano', 'ruc': '1708948565'}, {'empresa_id': '1709636664027', 'nombre': 'BAHIA MAR', 'ruc': '2000019824001'}, {'empresa_id': '1709636664028', 'nombre': 'ANA MARIA ACOSTA MACHADO', 'ruc': '1701238683001'}, {'empresa_id': '1709636664029', 'nombre': 'WILMER ARTURO COLIMBA CIFUENTES', 'ruc': '1714503974001'}, {'empresa_id': '1709636664030', 'nombre': 'GALAPAGOS OCEANDIESEL S.A.', 'ruc': '992340940001'}, {'empresa_id': '1709636664031', 'nombre': 'MARCO ANTONIO ESTRELLA CARVAJAL', 'ruc': '1711149813001'}, {'empresa_id': '1709636664032', 'nombre': 'MARJORIE GISSELA GRANDA REINOSO', 'ruc': '1714402490001'}, {'empresa_id': '1709636664033', 'nombre': 'CARMEN PATRICIA DIAZ RODRIGUEZ', 'ruc': '1715578694001'}, {'empresa_id': '1709636664034', 'nombre': 'Taconazo', 'ruc': '1792573009001'}, {'empresa_id': '1709636664035', 'nombre': 'NA SEUNGMIN', 'ruc': '1793075037001'}, {'empresa_id': '1709636664036', 'nombre': 'DEYSI CRISTINA BARRERA BARRERA', 'ruc': '1722121090001'}, {'empresa_id': '1709636664037', 'nombre': 'Belén Jaramillo Ochoa', 'ruc': '1711498343001'}, {'empresa_id': '1709636664038', 'nombre': 'Dania Carolina Cumba Maldonado ', 'ruc': ''}, {'empresa_id': '1709636664039', 'nombre': 'Carmen Díaz', 'ruc': '1715578694001'}, {'empresa_id': '1709636664040', 'nombre': 'HENRRY ARTURO SOTAMINGA LIMA', 'ruc': '1711291516001'}, {'empresa_id': '1709636664041', 'nombre': 'Maria Susana Ulquiango Toapanta', 'ruc': '1706080601001'}, {'empresa_id': '1709636664042', 'nombre': 'César  Zaldumbide ', 'ruc': '1711361285001'}, {'empresa_id': '1709636664043', 'nombre': 'Pinturas Colori', 'ruc': '1721587796001'}, {'empresa_id': '1709636664044', 'nombre': 'Delltex', 'ruc': '1790046621001'}, {'empresa_id': '1709636664045', 'nombre': 'Mariela Cardenas', 'ruc': '1711492189'}, {'empresa_id': '1709636664046', 'nombre': 'Andrea  Baratelli', 'ruc': '1760330116001'}, {'empresa_id': '1709636664047', 'nombre': 'SECURE WRAP ECUADOR CIA. LTDA.', 'ruc': '1791881443001'}, {'empresa_id': '1709636664048', 'nombre': 'Jenny  Espinoza', 'ruc': '801797598001'}, {'empresa_id': '1709636664049', 'nombre': 'GLADYS CRISTINA JARA CERON', 'ruc': '1706508890001'}, {'empresa_id': '1709636664050', 'nombre': 'URBEFASHION CIA LTDA', 'ruc': '792228867001'}, {'empresa_id': '1709636664051', 'nombre': 'MORAN IGLESIAS MARÍA ELIZABETH', 'ruc': '2000053617001'}, {'empresa_id': '1709636664052', 'nombre': 'Jhonny Gomez Gevarra', 'ruc': '1718824970001'}, {'empresa_id': '1709636664053', 'nombre': 'Fredy Bonilla', 'ruc': '1712521127001'}, {'empresa_id': '1709636664054', 'nombre': 'Nancy Azucena Paredes Moran', 'ruc': '1715249734001'}, {'empresa_id': '1709636664055', 'nombre': 'MARIA BELEN AGUINCHA TORRES', 'ruc': '1850370188001'}, {'empresa_id': '1709636664056', 'nombre': 'Meria Elena Bonilla Jarrin', 'ruc': '1703453975001'}]\n"
     ]
    },
    {
     "ename": "NameError",
     "evalue": "name 'c' is not defined",
     "output_type": "error",
     "traceback": [
      "\u001b[0;31m---------------------------------------------------------------------------\u001b[0m",
      "\u001b[0;31mNameError\u001b[0m                                 Traceback (most recent call last)",
      "\u001b[0;32m/var/folders/cs/m5ywmh1d5r19yylc1tq4qp2r0000gp/T/ipykernel_16604/2704697955.py\u001b[0m in \u001b[0;36m<module>\u001b[0;34m\u001b[0m\n\u001b[1;32m     15\u001b[0m \u001b[0mprint\u001b[0m\u001b[0;34m(\u001b[0m\u001b[0mcontactos\u001b[0m\u001b[0;34m)\u001b[0m\u001b[0;34m\u001b[0m\u001b[0;34m\u001b[0m\u001b[0m\n\u001b[1;32m     16\u001b[0m \u001b[0;34m\u001b[0m\u001b[0m\n\u001b[0;32m---> 17\u001b[0;31m \u001b[0mc\u001b[0m\u001b[0;34m.\u001b[0m\u001b[0mclose\u001b[0m\u001b[0;34m(\u001b[0m\u001b[0;34m)\u001b[0m\u001b[0;34m\u001b[0m\u001b[0;34m\u001b[0m\u001b[0m\n\u001b[0m",
      "\u001b[0;31mNameError\u001b[0m: name 'c' is not defined"
     ]
    }
   ],
   "source": [
    "file_read = open('/Users/pedroaltamirano/Downloads/cliente_empresa_servigraf.csv','r')\n",
    "print(\"The csv file is opened for reading:\")\n",
    "print(\"\\n\")\n",
    "file_open = csv.reader(file_read)\n",
    "print(\"The contents of the above file is as follows:\")\n",
    "\n",
    "contactos = []\n",
    "for row in file_open:\n",
    "  contactos.append({\n",
    "    'empresa_id':\trow[0],\n",
    "    'nombre': row[1],\n",
    "    'ruc': row[2],\n",
    "  })\n",
    "\n",
    "print(contactos)\n",
    "\n",
    "c.close()"
   ]
  },
  {
   "cell_type": "code",
   "execution_count": 27,
   "metadata": {},
   "outputs": [],
   "source": []
  }
 ],
 "metadata": {
  "interpreter": {
   "hash": "aee8b7b246df8f9039afb4144a1f6fd8d2ca17a180786b69acc140d282b71a49"
  },
  "kernelspec": {
   "display_name": "Python 3.9.7 64-bit",
   "language": "python",
   "name": "python3"
  },
  "language_info": {
   "codemirror_mode": {
    "name": "ipython",
    "version": 3
   },
   "file_extension": ".py",
   "mimetype": "text/x-python",
   "name": "python",
   "nbconvert_exporter": "python",
   "pygments_lexer": "ipython3",
   "version": "3.8.3"
  },
  "orig_nbformat": 4
 },
 "nbformat": 4,
 "nbformat_minor": 2
}
